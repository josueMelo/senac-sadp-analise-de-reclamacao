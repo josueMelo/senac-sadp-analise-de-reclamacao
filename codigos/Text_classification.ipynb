{
  "nbformat": 4,
  "nbformat_minor": 0,
  "metadata": {
    "colab": {
      "provenance": []
    },
    "kernelspec": {
      "name": "python3",
      "display_name": "Python 3"
    },
    "language_info": {
      "name": "python"
    }
  },
  "cells": [
    {
      "cell_type": "code",
      "execution_count": null,
      "metadata": {
        "id": "IJulQboX_Jyl",
        "colab": {
          "base_uri": "https://localhost:8080/"
        },
        "outputId": "3e1d0d32-f8d9-4fba-a6e0-e5a2e46ba67e"
      },
      "outputs": [
        {
          "output_type": "stream",
          "name": "stderr",
          "text": [
            "[nltk_data] Downloading package stopwords to /root/nltk_data...\n",
            "[nltk_data]   Package stopwords is already up-to-date!\n",
            "[nltk_data] Downloading package punkt to /root/nltk_data...\n",
            "[nltk_data]   Unzipping tokenizers/punkt.zip.\n"
          ]
        },
        {
          "output_type": "execute_result",
          "data": {
            "text/plain": [
              "True"
            ]
          },
          "metadata": {},
          "execution_count": 54
        }
      ],
      "source": [
        "import tensorflow as tf\n",
        "from keras.models import Sequential\n",
        "from keras.layers import Dense, Embedding, GlobalAveragePooling1D, Dropout\n",
        "from keras.preprocessing.text import Tokenizer\n",
        "from keras.utils import pad_sequences\n",
        "import pandas as pd\n",
        "from sklearn.model_selection import train_test_split\n",
        "from sklearn.metrics import confusion_matrix\n",
        "import seaborn as sns\n",
        "import matplotlib.pyplot as plt\n",
        "import nltk\n",
        "from nltk.corpus import stopwords\n",
        "from nltk.stem import *\n",
        "import numpy as np\n",
        "from keras.optimizers import Adam\n",
        "from sklearn.feature_extraction.text import TfidfVectorizer\n",
        "nltk.download('stopwords')\n",
        "nltk.download('punkt')"
      ]
    },
    {
      "cell_type": "code",
      "source": [
        "!pip install gdown"
      ],
      "metadata": {
        "colab": {
          "base_uri": "https://localhost:8080/"
        },
        "id": "qTA5dTjW_a9J",
        "outputId": "99d50070-b5e2-40fc-c828-968ad187f18d"
      },
      "execution_count": null,
      "outputs": [
        {
          "output_type": "stream",
          "name": "stdout",
          "text": [
            "Looking in indexes: https://pypi.org/simple, https://us-python.pkg.dev/colab-wheels/public/simple/\n",
            "Requirement already satisfied: gdown in /usr/local/lib/python3.10/dist-packages (4.6.6)\n",
            "Requirement already satisfied: filelock in /usr/local/lib/python3.10/dist-packages (from gdown) (3.12.0)\n",
            "Requirement already satisfied: requests[socks] in /usr/local/lib/python3.10/dist-packages (from gdown) (2.27.1)\n",
            "Requirement already satisfied: six in /usr/local/lib/python3.10/dist-packages (from gdown) (1.16.0)\n",
            "Requirement already satisfied: tqdm in /usr/local/lib/python3.10/dist-packages (from gdown) (4.65.0)\n",
            "Requirement already satisfied: beautifulsoup4 in /usr/local/lib/python3.10/dist-packages (from gdown) (4.11.2)\n",
            "Requirement already satisfied: soupsieve>1.2 in /usr/local/lib/python3.10/dist-packages (from beautifulsoup4->gdown) (2.4.1)\n",
            "Requirement already satisfied: urllib3<1.27,>=1.21.1 in /usr/local/lib/python3.10/dist-packages (from requests[socks]->gdown) (1.26.15)\n",
            "Requirement already satisfied: certifi>=2017.4.17 in /usr/local/lib/python3.10/dist-packages (from requests[socks]->gdown) (2022.12.7)\n",
            "Requirement already satisfied: charset-normalizer~=2.0.0 in /usr/local/lib/python3.10/dist-packages (from requests[socks]->gdown) (2.0.12)\n",
            "Requirement already satisfied: idna<4,>=2.5 in /usr/local/lib/python3.10/dist-packages (from requests[socks]->gdown) (3.4)\n",
            "Requirement already satisfied: PySocks!=1.5.7,>=1.5.6 in /usr/local/lib/python3.10/dist-packages (from requests[socks]->gdown) (1.7.1)\n"
          ]
        }
      ]
    },
    {
      "cell_type": "code",
      "source": [
        "!gdown https://drive.google.com/drive/folders/1tTYmeHspNsESUe5-qOBjwLeodyVSxPb9?usp=sharing -O ~/dataset --folder"
      ],
      "metadata": {
        "colab": {
          "base_uri": "https://localhost:8080/"
        },
        "id": "2LDxhg16Axa3",
        "outputId": "b652e217-cd8e-4dbe-8129-5d1accd7330d"
      },
      "execution_count": null,
      "outputs": [
        {
          "output_type": "stream",
          "name": "stdout",
          "text": [
            "Retrieving folder list\n",
            "Processing file 11lcXmCAhzu89eClIIlD2P42ehuLoDSKP complaints_processed.csv\n",
            "Processing file 1z_K5OcQsPdediNK_ikli3ea1sjMHvpzo final-dataset-v2.csv\n",
            "Processing file 1HyF-lkrRwRleSkoxtmBkIXRudgXz1W-i final-dataset.csv\n",
            "Retrieving folder list completed\n",
            "Building directory structure\n",
            "Building directory structure completed\n",
            "Downloading...\n",
            "From: https://drive.google.com/uc?id=11lcXmCAhzu89eClIIlD2P42ehuLoDSKP\n",
            "To: /root/dataset/complaints_processed.csv\n",
            "100% 99.5M/99.5M [00:00<00:00, 150MB/s]\n",
            "Downloading...\n",
            "From: https://drive.google.com/uc?id=1z_K5OcQsPdediNK_ikli3ea1sjMHvpzo\n",
            "To: /root/dataset/final-dataset-v2.csv\n",
            "100% 97.1M/97.1M [00:00<00:00, 98.4MB/s]\n",
            "Downloading...\n",
            "From: https://drive.google.com/uc?id=1HyF-lkrRwRleSkoxtmBkIXRudgXz1W-i\n",
            "To: /root/dataset/final-dataset.csv\n",
            "100% 97.1M/97.1M [00:00<00:00, 169MB/s]\n",
            "Download completed\n"
          ]
        }
      ]
    },
    {
      "cell_type": "code",
      "source": [
        "!ls"
      ],
      "metadata": {
        "colab": {
          "base_uri": "https://localhost:8080/"
        },
        "id": "GojS4IXkA6hA",
        "outputId": "c15b1b13-746f-4754-c3c2-42bfb46175f6"
      },
      "execution_count": null,
      "outputs": [
        {
          "output_type": "stream",
          "name": "stdout",
          "text": [
            " sample_data  'view?usp=drive_link'  'view?usp=sharing'\n"
          ]
        }
      ]
    },
    {
      "cell_type": "code",
      "source": [
        "data = pd.read_csv('~/dataset/complaints_processed.csv', encoding='utf8', header=None, names=['id', 'product', 'narrative'])"
      ],
      "metadata": {
        "id": "MtyY9QtLBHbj"
      },
      "execution_count": null,
      "outputs": []
    },
    {
      "cell_type": "code",
      "source": [
        "data.head()"
      ],
      "metadata": {
        "colab": {
          "base_uri": "https://localhost:8080/",
          "height": 206
        },
        "id": "PT5BnolvGROA",
        "outputId": "f87a5acd-0da9-45de-9628-bd595cbe39d7"
      },
      "execution_count": null,
      "outputs": [
        {
          "output_type": "execute_result",
          "data": {
            "text/plain": [
              "    id           product                                          narrative\n",
              "0  NaN           product                                          narrative\n",
              "1  0.0       credit_card  purchase order day shipping amount receive pro...\n",
              "2  1.0       credit_card  forwarded message date tue subject please inve...\n",
              "3  2.0    retail_banking  forwarded message cc sent friday pdt subject f...\n",
              "4  3.0  credit_reporting  payment history missing credit report speciali..."
            ],
            "text/html": [
              "\n",
              "  <div id=\"df-90d79210-ebe8-440d-b5ea-a930e686d3ca\">\n",
              "    <div class=\"colab-df-container\">\n",
              "      <div>\n",
              "<style scoped>\n",
              "    .dataframe tbody tr th:only-of-type {\n",
              "        vertical-align: middle;\n",
              "    }\n",
              "\n",
              "    .dataframe tbody tr th {\n",
              "        vertical-align: top;\n",
              "    }\n",
              "\n",
              "    .dataframe thead th {\n",
              "        text-align: right;\n",
              "    }\n",
              "</style>\n",
              "<table border=\"1\" class=\"dataframe\">\n",
              "  <thead>\n",
              "    <tr style=\"text-align: right;\">\n",
              "      <th></th>\n",
              "      <th>id</th>\n",
              "      <th>product</th>\n",
              "      <th>narrative</th>\n",
              "    </tr>\n",
              "  </thead>\n",
              "  <tbody>\n",
              "    <tr>\n",
              "      <th>0</th>\n",
              "      <td>NaN</td>\n",
              "      <td>product</td>\n",
              "      <td>narrative</td>\n",
              "    </tr>\n",
              "    <tr>\n",
              "      <th>1</th>\n",
              "      <td>0.0</td>\n",
              "      <td>credit_card</td>\n",
              "      <td>purchase order day shipping amount receive pro...</td>\n",
              "    </tr>\n",
              "    <tr>\n",
              "      <th>2</th>\n",
              "      <td>1.0</td>\n",
              "      <td>credit_card</td>\n",
              "      <td>forwarded message date tue subject please inve...</td>\n",
              "    </tr>\n",
              "    <tr>\n",
              "      <th>3</th>\n",
              "      <td>2.0</td>\n",
              "      <td>retail_banking</td>\n",
              "      <td>forwarded message cc sent friday pdt subject f...</td>\n",
              "    </tr>\n",
              "    <tr>\n",
              "      <th>4</th>\n",
              "      <td>3.0</td>\n",
              "      <td>credit_reporting</td>\n",
              "      <td>payment history missing credit report speciali...</td>\n",
              "    </tr>\n",
              "  </tbody>\n",
              "</table>\n",
              "</div>\n",
              "      <button class=\"colab-df-convert\" onclick=\"convertToInteractive('df-90d79210-ebe8-440d-b5ea-a930e686d3ca')\"\n",
              "              title=\"Convert this dataframe to an interactive table.\"\n",
              "              style=\"display:none;\">\n",
              "        \n",
              "  <svg xmlns=\"http://www.w3.org/2000/svg\" height=\"24px\"viewBox=\"0 0 24 24\"\n",
              "       width=\"24px\">\n",
              "    <path d=\"M0 0h24v24H0V0z\" fill=\"none\"/>\n",
              "    <path d=\"M18.56 5.44l.94 2.06.94-2.06 2.06-.94-2.06-.94-.94-2.06-.94 2.06-2.06.94zm-11 1L8.5 8.5l.94-2.06 2.06-.94-2.06-.94L8.5 2.5l-.94 2.06-2.06.94zm10 10l.94 2.06.94-2.06 2.06-.94-2.06-.94-.94-2.06-.94 2.06-2.06.94z\"/><path d=\"M17.41 7.96l-1.37-1.37c-.4-.4-.92-.59-1.43-.59-.52 0-1.04.2-1.43.59L10.3 9.45l-7.72 7.72c-.78.78-.78 2.05 0 2.83L4 21.41c.39.39.9.59 1.41.59.51 0 1.02-.2 1.41-.59l7.78-7.78 2.81-2.81c.8-.78.8-2.07 0-2.86zM5.41 20L4 18.59l7.72-7.72 1.47 1.35L5.41 20z\"/>\n",
              "  </svg>\n",
              "      </button>\n",
              "      \n",
              "  <style>\n",
              "    .colab-df-container {\n",
              "      display:flex;\n",
              "      flex-wrap:wrap;\n",
              "      gap: 12px;\n",
              "    }\n",
              "\n",
              "    .colab-df-convert {\n",
              "      background-color: #E8F0FE;\n",
              "      border: none;\n",
              "      border-radius: 50%;\n",
              "      cursor: pointer;\n",
              "      display: none;\n",
              "      fill: #1967D2;\n",
              "      height: 32px;\n",
              "      padding: 0 0 0 0;\n",
              "      width: 32px;\n",
              "    }\n",
              "\n",
              "    .colab-df-convert:hover {\n",
              "      background-color: #E2EBFA;\n",
              "      box-shadow: 0px 1px 2px rgba(60, 64, 67, 0.3), 0px 1px 3px 1px rgba(60, 64, 67, 0.15);\n",
              "      fill: #174EA6;\n",
              "    }\n",
              "\n",
              "    [theme=dark] .colab-df-convert {\n",
              "      background-color: #3B4455;\n",
              "      fill: #D2E3FC;\n",
              "    }\n",
              "\n",
              "    [theme=dark] .colab-df-convert:hover {\n",
              "      background-color: #434B5C;\n",
              "      box-shadow: 0px 1px 3px 1px rgba(0, 0, 0, 0.15);\n",
              "      filter: drop-shadow(0px 1px 2px rgba(0, 0, 0, 0.3));\n",
              "      fill: #FFFFFF;\n",
              "    }\n",
              "  </style>\n",
              "\n",
              "      <script>\n",
              "        const buttonEl =\n",
              "          document.querySelector('#df-90d79210-ebe8-440d-b5ea-a930e686d3ca button.colab-df-convert');\n",
              "        buttonEl.style.display =\n",
              "          google.colab.kernel.accessAllowed ? 'block' : 'none';\n",
              "\n",
              "        async function convertToInteractive(key) {\n",
              "          const element = document.querySelector('#df-90d79210-ebe8-440d-b5ea-a930e686d3ca');\n",
              "          const dataTable =\n",
              "            await google.colab.kernel.invokeFunction('convertToInteractive',\n",
              "                                                     [key], {});\n",
              "          if (!dataTable) return;\n",
              "\n",
              "          const docLinkHtml = 'Like what you see? Visit the ' +\n",
              "            '<a target=\"_blank\" href=https://colab.research.google.com/notebooks/data_table.ipynb>data table notebook</a>'\n",
              "            + ' to learn more about interactive tables.';\n",
              "          element.innerHTML = '';\n",
              "          dataTable['output_type'] = 'display_data';\n",
              "          await google.colab.output.renderOutput(dataTable, element);\n",
              "          const docLink = document.createElement('div');\n",
              "          docLink.innerHTML = docLinkHtml;\n",
              "          element.appendChild(docLink);\n",
              "        }\n",
              "      </script>\n",
              "    </div>\n",
              "  </div>\n",
              "  "
            ]
          },
          "metadata": {},
          "execution_count": 41
        }
      ]
    },
    {
      "cell_type": "code",
      "source": [
        "# Removendo valores none\n",
        "data = data.dropna()"
      ],
      "metadata": {
        "id": "eAbROpT1GtTl"
      },
      "execution_count": null,
      "outputs": []
    },
    {
      "cell_type": "code",
      "source": [
        "data.head()"
      ],
      "metadata": {
        "colab": {
          "base_uri": "https://localhost:8080/",
          "height": 206
        },
        "id": "56UMKMSVGx2J",
        "outputId": "dafdf853-c99a-457c-af40-74213a576d46"
      },
      "execution_count": null,
      "outputs": [
        {
          "output_type": "execute_result",
          "data": {
            "text/plain": [
              "    id           product                                          narrative\n",
              "1  0.0       credit_card  purchase order day shipping amount receive pro...\n",
              "2  1.0       credit_card  forwarded message date tue subject please inve...\n",
              "3  2.0    retail_banking  forwarded message cc sent friday pdt subject f...\n",
              "4  3.0  credit_reporting  payment history missing credit report speciali...\n",
              "5  4.0  credit_reporting  payment history missing credit report made mis..."
            ],
            "text/html": [
              "\n",
              "  <div id=\"df-01959c59-8623-4ccb-a8c7-eebd04b1a845\">\n",
              "    <div class=\"colab-df-container\">\n",
              "      <div>\n",
              "<style scoped>\n",
              "    .dataframe tbody tr th:only-of-type {\n",
              "        vertical-align: middle;\n",
              "    }\n",
              "\n",
              "    .dataframe tbody tr th {\n",
              "        vertical-align: top;\n",
              "    }\n",
              "\n",
              "    .dataframe thead th {\n",
              "        text-align: right;\n",
              "    }\n",
              "</style>\n",
              "<table border=\"1\" class=\"dataframe\">\n",
              "  <thead>\n",
              "    <tr style=\"text-align: right;\">\n",
              "      <th></th>\n",
              "      <th>id</th>\n",
              "      <th>product</th>\n",
              "      <th>narrative</th>\n",
              "    </tr>\n",
              "  </thead>\n",
              "  <tbody>\n",
              "    <tr>\n",
              "      <th>1</th>\n",
              "      <td>0.0</td>\n",
              "      <td>credit_card</td>\n",
              "      <td>purchase order day shipping amount receive pro...</td>\n",
              "    </tr>\n",
              "    <tr>\n",
              "      <th>2</th>\n",
              "      <td>1.0</td>\n",
              "      <td>credit_card</td>\n",
              "      <td>forwarded message date tue subject please inve...</td>\n",
              "    </tr>\n",
              "    <tr>\n",
              "      <th>3</th>\n",
              "      <td>2.0</td>\n",
              "      <td>retail_banking</td>\n",
              "      <td>forwarded message cc sent friday pdt subject f...</td>\n",
              "    </tr>\n",
              "    <tr>\n",
              "      <th>4</th>\n",
              "      <td>3.0</td>\n",
              "      <td>credit_reporting</td>\n",
              "      <td>payment history missing credit report speciali...</td>\n",
              "    </tr>\n",
              "    <tr>\n",
              "      <th>5</th>\n",
              "      <td>4.0</td>\n",
              "      <td>credit_reporting</td>\n",
              "      <td>payment history missing credit report made mis...</td>\n",
              "    </tr>\n",
              "  </tbody>\n",
              "</table>\n",
              "</div>\n",
              "      <button class=\"colab-df-convert\" onclick=\"convertToInteractive('df-01959c59-8623-4ccb-a8c7-eebd04b1a845')\"\n",
              "              title=\"Convert this dataframe to an interactive table.\"\n",
              "              style=\"display:none;\">\n",
              "        \n",
              "  <svg xmlns=\"http://www.w3.org/2000/svg\" height=\"24px\"viewBox=\"0 0 24 24\"\n",
              "       width=\"24px\">\n",
              "    <path d=\"M0 0h24v24H0V0z\" fill=\"none\"/>\n",
              "    <path d=\"M18.56 5.44l.94 2.06.94-2.06 2.06-.94-2.06-.94-.94-2.06-.94 2.06-2.06.94zm-11 1L8.5 8.5l.94-2.06 2.06-.94-2.06-.94L8.5 2.5l-.94 2.06-2.06.94zm10 10l.94 2.06.94-2.06 2.06-.94-2.06-.94-.94-2.06-.94 2.06-2.06.94z\"/><path d=\"M17.41 7.96l-1.37-1.37c-.4-.4-.92-.59-1.43-.59-.52 0-1.04.2-1.43.59L10.3 9.45l-7.72 7.72c-.78.78-.78 2.05 0 2.83L4 21.41c.39.39.9.59 1.41.59.51 0 1.02-.2 1.41-.59l7.78-7.78 2.81-2.81c.8-.78.8-2.07 0-2.86zM5.41 20L4 18.59l7.72-7.72 1.47 1.35L5.41 20z\"/>\n",
              "  </svg>\n",
              "      </button>\n",
              "      \n",
              "  <style>\n",
              "    .colab-df-container {\n",
              "      display:flex;\n",
              "      flex-wrap:wrap;\n",
              "      gap: 12px;\n",
              "    }\n",
              "\n",
              "    .colab-df-convert {\n",
              "      background-color: #E8F0FE;\n",
              "      border: none;\n",
              "      border-radius: 50%;\n",
              "      cursor: pointer;\n",
              "      display: none;\n",
              "      fill: #1967D2;\n",
              "      height: 32px;\n",
              "      padding: 0 0 0 0;\n",
              "      width: 32px;\n",
              "    }\n",
              "\n",
              "    .colab-df-convert:hover {\n",
              "      background-color: #E2EBFA;\n",
              "      box-shadow: 0px 1px 2px rgba(60, 64, 67, 0.3), 0px 1px 3px 1px rgba(60, 64, 67, 0.15);\n",
              "      fill: #174EA6;\n",
              "    }\n",
              "\n",
              "    [theme=dark] .colab-df-convert {\n",
              "      background-color: #3B4455;\n",
              "      fill: #D2E3FC;\n",
              "    }\n",
              "\n",
              "    [theme=dark] .colab-df-convert:hover {\n",
              "      background-color: #434B5C;\n",
              "      box-shadow: 0px 1px 3px 1px rgba(0, 0, 0, 0.15);\n",
              "      filter: drop-shadow(0px 1px 2px rgba(0, 0, 0, 0.3));\n",
              "      fill: #FFFFFF;\n",
              "    }\n",
              "  </style>\n",
              "\n",
              "      <script>\n",
              "        const buttonEl =\n",
              "          document.querySelector('#df-01959c59-8623-4ccb-a8c7-eebd04b1a845 button.colab-df-convert');\n",
              "        buttonEl.style.display =\n",
              "          google.colab.kernel.accessAllowed ? 'block' : 'none';\n",
              "\n",
              "        async function convertToInteractive(key) {\n",
              "          const element = document.querySelector('#df-01959c59-8623-4ccb-a8c7-eebd04b1a845');\n",
              "          const dataTable =\n",
              "            await google.colab.kernel.invokeFunction('convertToInteractive',\n",
              "                                                     [key], {});\n",
              "          if (!dataTable) return;\n",
              "\n",
              "          const docLinkHtml = 'Like what you see? Visit the ' +\n",
              "            '<a target=\"_blank\" href=https://colab.research.google.com/notebooks/data_table.ipynb>data table notebook</a>'\n",
              "            + ' to learn more about interactive tables.';\n",
              "          element.innerHTML = '';\n",
              "          dataTable['output_type'] = 'display_data';\n",
              "          await google.colab.output.renderOutput(dataTable, element);\n",
              "          const docLink = document.createElement('div');\n",
              "          docLink.innerHTML = docLinkHtml;\n",
              "          element.appendChild(docLink);\n",
              "        }\n",
              "      </script>\n",
              "    </div>\n",
              "  </div>\n",
              "  "
            ]
          },
          "metadata": {},
          "execution_count": 43
        }
      ]
    },
    {
      "cell_type": "code",
      "source": [
        "# passando categorias de string para numeros\n",
        "product_labels = data['product'].unique()"
      ],
      "metadata": {
        "id": "fl8NIF-dHQn9"
      },
      "execution_count": null,
      "outputs": []
    },
    {
      "cell_type": "code",
      "source": [
        "#Criando nova coluna para passar as classes de string para int\n",
        "data['y_target_label'] = data['product']\n",
        "\n",
        "product_label_classes = {}\n",
        "for index, label in enumerate(list(product_labels)):\n",
        "    product_label_classes[label] = index\n",
        "\n",
        "y_target_labels = []\n",
        "for product in data['product']:\n",
        "    y_target_labels.append(product_label_classes[product])\n",
        "\n",
        "data['y_target_label'] = y_target_labels"
      ],
      "metadata": {
        "id": "DYG6CozfHS2U"
      },
      "execution_count": null,
      "outputs": []
    },
    {
      "cell_type": "code",
      "source": [
        "# objetos para tratar texto\n",
        "stemmer = PorterStemmer()\n",
        "contents_tokenized = np.array([])\n",
        "stop_words = stopwords.words('english')"
      ],
      "metadata": {
        "id": "lUArgZCAHvPJ"
      },
      "execution_count": null,
      "outputs": []
    },
    {
      "cell_type": "code",
      "source": [
        "def stem(words):\n",
        "    return [stemmer.stem(word.lower()) for word in words if word.isalpha()]"
      ],
      "metadata": {
        "id": "fBu88IXUICFp"
      },
      "execution_count": null,
      "outputs": []
    },
    {
      "cell_type": "code",
      "source": [
        "def remove_stop_words(words):\n",
        "    return [word for word in words if word not in stop_words]"
      ],
      "metadata": {
        "id": "qzdGAdRQIHGW"
      },
      "execution_count": null,
      "outputs": []
    },
    {
      "cell_type": "code",
      "source": [
        "def tokenize(text_content):\n",
        "    text_tokens = nltk.word_tokenize(text_content)\n",
        "    text_without_stop_words = remove_stop_words(text_tokens)\n",
        "    stemmed_words = stem(text_without_stop_words)\n",
        "    return stemmed_words"
      ],
      "metadata": {
        "id": "x_HhPPvJIJ47"
      },
      "execution_count": null,
      "outputs": []
    },
    {
      "cell_type": "code",
      "source": [
        "def vectorizer(texts):\n",
        "    vectorizer = TfidfVectorizer()  # Create an instance of TfidfVectorizer\n",
        "    # Fit the vectorizer to the text data and transform the text into a TF-IDF matrix\n",
        "    vectorizer.fit_transform(texts)\n",
        "    return vectorizer.get_feature_names_out().tolist()"
      ],
      "metadata": {
        "id": "8ClifR-XINo5"
      },
      "execution_count": null,
      "outputs": []
    },
    {
      "cell_type": "code",
      "source": [
        "# texto com as strings tratadas\n",
        "text = data.loc[:, ['narrative']].applymap(\n",
        "    tokenize).applymap(vectorizer)['narrative'].values"
      ],
      "metadata": {
        "id": "GtHM3ifSIRiJ"
      },
      "execution_count": null,
      "outputs": []
    },
    {
      "cell_type": "code",
      "source": [
        "# Categorias correspondentes aos textos de exemplo\n",
        "categories = data['y_target_label'].values"
      ],
      "metadata": {
        "id": "_x8Ws0C7JA7L"
      },
      "execution_count": null,
      "outputs": []
    },
    {
      "cell_type": "code",
      "source": [
        "# Dividindo os dados em treino e teste\n",
        "train_text, test_text, train_labels, test_labels = train_test_split(\n",
        "    text, categories, test_size=0.2)"
      ],
      "metadata": {
        "id": "gpoChfuVL_1A"
      },
      "execution_count": null,
      "outputs": []
    },
    {
      "cell_type": "code",
      "source": [
        "# Pré-processamento dos textos\n",
        "tokenizer = Tokenizer(num_words=10000)\n",
        "tokenizer.fit_on_texts(train_text)"
      ],
      "metadata": {
        "id": "_4M0DwUGMDzs"
      },
      "execution_count": null,
      "outputs": []
    },
    {
      "cell_type": "code",
      "source": [
        "sequencias_train = tokenizer.texts_to_sequences(train_text)\n",
        "sequencias_test = tokenizer.texts_to_sequences(test_text)"
      ],
      "metadata": {
        "id": "O3kCwoUdMHME"
      },
      "execution_count": null,
      "outputs": []
    },
    {
      "cell_type": "code",
      "source": [
        "# Tamanho máximo das sequências\n",
        "max_sequence_length_train = max([len(seq) for seq in sequencias_train])\n",
        "sequencias_train = pad_sequences(\n",
        "    sequencias_train, maxlen=max_sequence_length_train)\n",
        "\n",
        "max_sequence_length_test = max([len(seq) for seq in sequencias_test])\n",
        "sequencias_test = pad_sequences(\n",
        "    sequencias_test, maxlen=max_sequence_length_test)"
      ],
      "metadata": {
        "id": "GwQPa5ltMRsZ"
      },
      "execution_count": null,
      "outputs": []
    },
    {
      "cell_type": "code",
      "source": [
        "dense_size = len(tf.keras.utils.to_categorical(categories)[0])\n",
        "vocabulary = len(tokenizer.word_index) + 1"
      ],
      "metadata": {
        "id": "TZJ_5t37MXAl"
      },
      "execution_count": null,
      "outputs": []
    },
    {
      "cell_type": "code",
      "source": [
        "# Criação do modelo de rede neural\n",
        "model = Sequential()\n",
        "model.add(Embedding(vocabulary, 128))\n",
        "model.add(GlobalAveragePooling1D())\n",
        "model.add(Dropout(0.2))\n",
        "model.add(Dense(dense_size, activation='softmax'))"
      ],
      "metadata": {
        "id": "UWiC5TUnManw"
      },
      "execution_count": null,
      "outputs": []
    },
    {
      "cell_type": "code",
      "source": [
        "# Compilação do modelo\n",
        "optimizer = Adam()\n",
        "model.compile(loss='sparse_categorical_crossentropy',\n",
        "              optimizer=optimizer, metrics=['accuracy'])"
      ],
      "metadata": {
        "id": "4RdxQak6MeaA"
      },
      "execution_count": null,
      "outputs": []
    },
    {
      "cell_type": "code",
      "source": [
        "# Treinando o modelo\n",
        "model.fit(sequencias_train, train_labels, validation_data=(\n",
        "    sequencias_test, test_labels), epochs=10, batch_size=64)"
      ],
      "metadata": {
        "colab": {
          "base_uri": "https://localhost:8080/"
        },
        "id": "zWq4LOSmMhIf",
        "outputId": "045435f8-9445-4e22-ebcc-14ac17b63a5d"
      },
      "execution_count": null,
      "outputs": [
        {
          "output_type": "stream",
          "name": "stdout",
          "text": [
            "Epoch 1/10\n",
            "2031/2031 [==============================] - 168s 82ms/step - loss: 1.0529 - accuracy: 0.6051 - val_loss: 0.8117 - val_accuracy: 0.7256\n",
            "Epoch 2/10\n",
            "2031/2031 [==============================] - 161s 79ms/step - loss: 0.6558 - accuracy: 0.7895 - val_loss: 0.5556 - val_accuracy: 0.8293\n",
            "Epoch 3/10\n",
            "2031/2031 [==============================] - 165s 81ms/step - loss: 0.4999 - accuracy: 0.8394 - val_loss: 0.4747 - val_accuracy: 0.8434\n",
            "Epoch 4/10\n",
            "2031/2031 [==============================] - 158s 78ms/step - loss: 0.4434 - accuracy: 0.8517 - val_loss: 0.4385 - val_accuracy: 0.8505\n",
            "Epoch 5/10\n",
            "2031/2031 [==============================] - 164s 81ms/step - loss: 0.4163 - accuracy: 0.8585 - val_loss: 0.4222 - val_accuracy: 0.8544\n",
            "Epoch 6/10\n",
            "2031/2031 [==============================] - 174s 86ms/step - loss: 0.3998 - accuracy: 0.8630 - val_loss: 0.4170 - val_accuracy: 0.8530\n",
            "Epoch 7/10\n",
            "2031/2031 [==============================] - 165s 81ms/step - loss: 0.3891 - accuracy: 0.8667 - val_loss: 0.4034 - val_accuracy: 0.8603\n",
            "Epoch 8/10\n",
            "2031/2031 [==============================] - 157s 77ms/step - loss: 0.3792 - accuracy: 0.8697 - val_loss: 0.3986 - val_accuracy: 0.8632\n",
            "Epoch 9/10\n",
            "2031/2031 [==============================] - 175s 86ms/step - loss: 0.3718 - accuracy: 0.8725 - val_loss: 0.3961 - val_accuracy: 0.8607\n",
            "Epoch 10/10\n",
            "2031/2031 [==============================] - 158s 78ms/step - loss: 0.3651 - accuracy: 0.8750 - val_loss: 0.3980 - val_accuracy: 0.8633\n"
          ]
        },
        {
          "output_type": "execute_result",
          "data": {
            "text/plain": [
              "<keras.callbacks.History at 0x7f65122d0fa0>"
            ]
          },
          "metadata": {},
          "execution_count": 64
        }
      ]
    },
    {
      "cell_type": "code",
      "source": [
        "# Avaliando o modelo\n",
        "score, acc = model.evaluate(sequencias_test, test_labels, batch_size=32)\n",
        "print(f\"Acurácia do modelo: {acc:.2f}\")"
      ],
      "metadata": {
        "colab": {
          "base_uri": "https://localhost:8080/"
        },
        "id": "pnGCK1XHTE2V",
        "outputId": "9bc4a8de-edae-4398-a8eb-80e39f01dd4a"
      },
      "execution_count": null,
      "outputs": [
        {
          "output_type": "stream",
          "name": "stdout",
          "text": [
            "1016/1016 [==============================] - 9s 9ms/step - loss: 0.3980 - accuracy: 0.8633\n",
            "Acurácia do modelo: 0.86\n"
          ]
        }
      ]
    },
    {
      "cell_type": "code",
      "source": [
        "# Matriz de confusao\n",
        "predictions = model.predict(\n",
        "    sequencias_test).argmax(axis=1)  # matriz de confusão não conseguem lidar com uma combinação de rótulos de classe multiclasse, adicionando axis=1\n",
        "cm = confusion_matrix(test_labels, predictions)\n",
        "plt.figure(figsize=(8, 6))\n",
        "sns.heatmap(cm, annot=True, fmt=\"d\", cmap=\"Blues\")\n",
        "plt.title(\"Matriz de Confusão\")\n",
        "plt.xlabel(\"Classe Predita\")\n",
        "plt.ylabel(\"Classe Real\")\n",
        "plt.show()"
      ],
      "metadata": {
        "colab": {
          "base_uri": "https://localhost:8080/",
          "height": 581
        },
        "id": "TbZbFR-CTKYw",
        "outputId": "44a9c358-724a-4b1f-a231-4c91dfbace69"
      },
      "execution_count": null,
      "outputs": [
        {
          "output_type": "stream",
          "name": "stdout",
          "text": [
            "1016/1016 [==============================] - 10s 10ms/step\n"
          ]
        },
        {
          "output_type": "display_data",
          "data": {
            "text/plain": [
              "<Figure size 800x600 with 2 Axes>"
            ],
            "image/png": "[encoded data removed]"
          },
          "metadata": {}
        }
      ]
    }
  ]
}